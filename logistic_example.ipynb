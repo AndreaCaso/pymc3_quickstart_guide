{
 "cells": [
  {
   "cell_type": "markdown",
   "metadata": {},
   "source": [
    "Adapted from: https://github.com/pymc-devs/pymc3/blob/master/pymc3/examples/logistic.py"
   ]
  },
  {
   "cell_type": "code",
   "execution_count": 1,
   "metadata": {
    "collapsed": false
   },
   "outputs": [
    {
     "name": "stdout",
     "output_type": "stream",
     "text": [
      "Populating the interactive namespace from numpy and matplotlib\n"
     ]
    }
   ],
   "source": [
    "%pylab --no-import-all inline\n",
    "\n",
    "from pymc3 import *\n",
    "import theano.tensor as T\n",
    "from numpy import random, sum as nsum, ones, concatenate, newaxis, dot, arange\n",
    "import numpy as np"
   ]
  },
  {
   "cell_type": "code",
   "execution_count": 2,
   "metadata": {
    "collapsed": true
   },
   "outputs": [],
   "source": [
    "def numpy_invlogit(x):\n",
    "    return 1 / (1 + np.exp(-x))"
   ]
  },
  {
   "cell_type": "code",
   "execution_count": 3,
   "metadata": {
    "collapsed": true
   },
   "outputs": [],
   "source": [
    "# Deprecated now!\n",
    "\n",
    "# def tinvlogit(x):\n",
    "#     lower = 1e-6\n",
    "#     upper = 1 - 1e-6\n",
    "#     return lower + (upper - lower) * 1 / (1 + T.exp(-x))"
   ]
  },
  {
   "cell_type": "markdown",
   "metadata": {},
   "source": [
    "Basic Logistic Regression\n",
    "==="
   ]
  },
  {
   "cell_type": "code",
   "execution_count": 4,
   "metadata": {
    "collapsed": true
   },
   "outputs": [],
   "source": [
    "# Set up basic parameters\n",
    "num_features = 10\n",
    "n = 1000"
   ]
  },
  {
   "cell_type": "code",
   "execution_count": 5,
   "metadata": {
    "collapsed": true
   },
   "outputs": [],
   "source": [
    "# Choose random values for the actual alpha and betas\n",
    "alpha_a = random.normal(size=1)\n",
    "\n",
    "betas_a = random.normal(size = num_features)\n",
    "\n",
    "# Create fake predictor data\n",
    "X_train = random.normal(size=(n, num_features))\n",
    "X_test =  random.normal(size=(n, num_features))"
   ]
  },
  {
   "cell_type": "code",
   "execution_count": 6,
   "metadata": {
    "collapsed": false
   },
   "outputs": [],
   "source": [
    "# Calculate the outcomes\n",
    "Y_train = random.binomial(1, numpy_invlogit(alpha_a + np.sum(betas_a[None, :] * X_train, 1)))\n",
    "Y_test = random.binomial(1, numpy_invlogit(alpha_a + np.sum(betas_a[None, :] * X_test, 1)))"
   ]
  },
  {
   "cell_type": "code",
   "execution_count": 7,
   "metadata": {
    "collapsed": false
   },
   "outputs": [],
   "source": [
    "model_input = theano.shared(X_train)\n",
    "model_output = theano.shared(Y_train)"
   ]
  },
  {
   "cell_type": "code",
   "execution_count": 8,
   "metadata": {
    "collapsed": false
   },
   "outputs": [],
   "source": [
    "training_model = Model()\n",
    "\n",
    "with training_model:\n",
    "    alpha = Normal(b'alpha', mu=0, tau=2.**-2, shape=(1))\n",
    "    betas = Normal(b'betas', mu=0, tau=2. ** -2, shape=(1, num_features))\n",
    "    \n",
    "    #p = invlogit(alpha+T.dot(predictors, betas))\n",
    "    p = invlogit(alpha + sum(betas*model_input, 1))\n",
    "\n",
    "    o = Bernoulli(b'o', p, observed=model_output)"
   ]
  },
  {
   "cell_type": "code",
   "execution_count": 9,
   "metadata": {
    "collapsed": false
   },
   "outputs": [
    {
     "data": {
      "text/plain": [
       "theano.tensor.sharedvar.TensorSharedVariable"
      ]
     },
     "execution_count": 9,
     "metadata": {},
     "output_type": "execute_result"
    }
   ],
   "source": [
    "type(model_input)"
   ]
  },
  {
   "cell_type": "code",
   "execution_count": 10,
   "metadata": {
    "collapsed": false
   },
   "outputs": [
    {
     "name": "stdout",
     "output_type": "stream",
     "text": [
      "Iteration 0 [0%]: ELBO = -1283.07\n",
      "Iteration 1000 [10%]: Average ELBO = -1281.02\n",
      "Iteration 2000 [20%]: Average ELBO = -971.66\n",
      "Iteration 3000 [30%]: Average ELBO = -758.94\n",
      "Iteration 4000 [40%]: Average ELBO = -619.65\n",
      "Iteration 5000 [50%]: Average ELBO = -528.82\n",
      "Iteration 6000 [60%]: Average ELBO = -474.79\n",
      "Iteration 7000 [70%]: Average ELBO = -442.03\n",
      "Iteration 8000 [80%]: Average ELBO = -424.76\n",
      "Iteration 9000 [90%]: Average ELBO = -414.75\n",
      "Finished [100%]: Average ELBO = -408.99\n"
     ]
    }
   ],
   "source": [
    "with training_model:\n",
    "    v_params = variational.advi(n=10000)"
   ]
  },
  {
   "cell_type": "code",
   "execution_count": 11,
   "metadata": {
    "collapsed": false
   },
   "outputs": [
    {
     "data": {
      "text/plain": [
       "ADVIFit(means={'alpha': array([ 1.12997159]), 'betas': array([[ 0.27002868, -0.51762512, -0.11129079,  1.09251162, -0.23384858,\n",
       "        -1.90426876,  0.07962507, -1.40733121, -0.21162125, -0.22168425]])}, stds={'alpha': array([ 0.16574908]), 'betas': array([[ 0.15359386,  0.15989805,  0.15361509,  0.17134355,  0.15233631,\n",
       "         0.22247503,  0.15193632,  0.1874232 ,  0.15414173,  0.15261708]])}, elbo_vals=array([-1283.07448114,  -961.12942996, -1624.72632893, ...,  -402.47336455,\n",
       "        -408.84556703,  -402.68174839]))"
      ]
     },
     "execution_count": 11,
     "metadata": {},
     "output_type": "execute_result"
    }
   ],
   "source": [
    "v_params"
   ]
  },
  {
   "cell_type": "code",
   "execution_count": 12,
   "metadata": {
    "collapsed": false
   },
   "outputs": [
    {
     "data": {
      "text/plain": [
       "[<matplotlib.lines.Line2D at 0x7f18ee8ac050>]"
      ]
     },
     "execution_count": 12,
     "metadata": {},
     "output_type": "execute_result"
    },
    {
     "data": {
      "image/png": "[encoded data removed]",
      "text/plain": [
       "<matplotlib.figure.Figure at 0x7f1907819bd0>"
      ]
     },
     "metadata": {},
     "output_type": "display_data"
    }
   ],
   "source": [
    "plt.plot(v_params.elbo_vals)"
   ]
  },
  {
   "cell_type": "code",
   "execution_count": 13,
   "metadata": {
    "collapsed": false
   },
   "outputs": [],
   "source": [
    "with training_model:\n",
    "    advi_trace = variational.sample_vp(v_params, draws=5000)"
   ]
  },
  {
   "cell_type": "code",
   "execution_count": null,
   "metadata": {
    "collapsed": false
   },
   "outputs": [],
   "source": [
    "with training_model:\n",
    "    # move the chain to the MAP which should be a good starting point\n",
    "    #start = find_MAP()\n",
    "    #step = NUTS()\n",
    "\n",
    "    #trace = sample(3e3, step, start)\n",
    "    \n",
    "    step = NUTS(scaling=v_params.stds)\n",
    "\n",
    "    nuts_trace = sample(8e3, step, start=v_params.means)\n"
   ]
  },
  {
   "cell_type": "code",
   "execution_count": null,
   "metadata": {
    "collapsed": false
   },
   "outputs": [],
   "source": [
    "traceplot(nuts_trace[1000:])"
   ]
  },
  {
   "cell_type": "code",
   "execution_count": null,
   "metadata": {
    "collapsed": false
   },
   "outputs": [],
   "source": [
    "summary(nuts_trace[1000:])"
   ]
  },
  {
   "cell_type": "code",
   "execution_count": null,
   "metadata": {
    "collapsed": false
   },
   "outputs": [],
   "source": [
    "alpha_a"
   ]
  },
  {
   "cell_type": "code",
   "execution_count": null,
   "metadata": {
    "collapsed": false
   },
   "outputs": [],
   "source": [
    "betas_a"
   ]
  },
  {
   "cell_type": "code",
   "execution_count": null,
   "metadata": {
    "collapsed": true
   },
   "outputs": [],
   "source": [
    "# Replace shared variables with testing set\n",
    "model_input.set_value(X_test)\n",
    "model_output.set_value(Y_test)"
   ]
  },
  {
   "cell_type": "code",
   "execution_count": null,
   "metadata": {
    "collapsed": true
   },
   "outputs": [],
   "source": [
    "# Create posterior predictive samples\n",
    "ppc = sample_ppc(advi_trace, model=training_model, samples=1000)\n",
    "\n",
    "# Use probability of > 0.5 to assume prediction of class 1\n",
    "pred = ppc['o'].mean(axis=0) > 0.5"
   ]
  },
  {
   "cell_type": "code",
   "execution_count": null,
   "metadata": {
    "collapsed": false,
    "scrolled": false
   },
   "outputs": [],
   "source": [
    "print('ADVI Accuracy = {}%'.format((Y_test == pred).mean() * 100))"
   ]
  },
  {
   "cell_type": "code",
   "execution_count": null,
   "metadata": {
    "collapsed": false
   },
   "outputs": [],
   "source": [
    "# Create posterior predictive samples\n",
    "ppc = sample_ppc(nuts_trace[1000:], model=training_model, samples=1000)\n",
    "\n",
    "# Use probability of > 0.5 to assume prediction of class 1\n",
    "pred = ppc['o'].mean(axis=0) > 0.5"
   ]
  },
  {
   "cell_type": "code",
   "execution_count": null,
   "metadata": {
    "collapsed": false
   },
   "outputs": [],
   "source": [
    "print('NUTS Accuracy = {}%'.format((Y_test == pred).mean() * 100))"
   ]
  },
  {
   "cell_type": "markdown",
   "metadata": {
    "collapsed": true
   },
   "source": [
    "API-ify a Model\n",
    "==="
   ]
  },
  {
   "cell_type": "code",
   "execution_count": 81,
   "metadata": {
    "collapsed": false
   },
   "outputs": [],
   "source": [
    "API_test =  random.normal(size=(1, num_features))"
   ]
  },
  {
   "cell_type": "code",
   "execution_count": 82,
   "metadata": {
    "collapsed": true
   },
   "outputs": [],
   "source": [
    "API_Y_test = random.binomial(1, numpy_invlogit(alpha_a + np.sum(betas_a[None, :] * API_test, 1)))"
   ]
  },
  {
   "cell_type": "code",
   "execution_count": 83,
   "metadata": {
    "collapsed": false
   },
   "outputs": [
    {
     "data": {
      "text/plain": [
       "1"
      ]
     },
     "execution_count": 83,
     "metadata": {},
     "output_type": "execute_result"
    }
   ],
   "source": [
    "API_Y_test"
   ]
  },
  {
   "cell_type": "code",
   "execution_count": 84,
   "metadata": {
    "collapsed": true
   },
   "outputs": [],
   "source": [
    "# Put in some fake data\n",
    "API_fake_Y = 0"
   ]
  },
  {
   "cell_type": "code",
   "execution_count": 85,
   "metadata": {
    "collapsed": true
   },
   "outputs": [],
   "source": [
    "model_input = theano.shared(API_test)"
   ]
  },
  {
   "cell_type": "code",
   "execution_count": 86,
   "metadata": {
    "collapsed": false
   },
   "outputs": [],
   "source": [
    "API_model = Model()\n",
    "\n",
    "with API_model:\n",
    "    alpha = Normal(b'alpha', mu=0, tau=2.**-2, shape=(1))\n",
    "    betas = Normal(b'betas', mu=0, tau=2. ** -2, shape=(1, num_features))\n",
    "    \n",
    "    #p = invlogit(alpha+T.dot(predictors, betas))\n",
    "    p = invlogit(alpha + sum(betas*model_input, 1))\n",
    "\n",
    "    #o = Bernoulli(b'o', p, shape=(1, 2))\n",
    "    o = Bernoulli(b'o', p, observed=API_fake_Y)"
   ]
  },
  {
   "cell_type": "code",
   "execution_count": 87,
   "metadata": {
    "collapsed": false
   },
   "outputs": [],
   "source": [
    "# Create posterior predictive samples\n",
    "ppc = sample_ppc(advi_trace, model=API_model, samples=1000)"
   ]
  },
  {
   "cell_type": "code",
   "execution_count": 88,
   "metadata": {
    "collapsed": true
   },
   "outputs": [],
   "source": [
    "# Use probability of > 0.5 to assume prediction of class 1\n",
    "pred = ppc['o'].mean(axis=0) > 0.5"
   ]
  },
  {
   "cell_type": "code",
   "execution_count": 89,
   "metadata": {
    "collapsed": false
   },
   "outputs": [
    {
     "data": {
      "text/plain": [
       "array([ True], dtype=bool)"
      ]
     },
     "execution_count": 89,
     "metadata": {},
     "output_type": "execute_result"
    }
   ],
   "source": [
    "pred"
   ]
  },
  {
   "cell_type": "markdown",
   "metadata": {},
   "source": [
    "Hierachical Logistic Regression\n",
    "==="
   ]
  },
  {
   "cell_type": "code",
   "execution_count": null,
   "metadata": {
    "collapsed": false
   },
   "outputs": [],
   "source": [
    "# Set up basic parameters\n",
    "num_markets = 4\n",
    "\n",
    "# Need lots of data to converge\n",
    "num_per_market = 15000\n",
    "num_observed = num_per_market * num_markets\n",
    "num_features = 100"
   ]
  },
  {
   "cell_type": "code",
   "execution_count": null,
   "metadata": {
    "collapsed": false
   },
   "outputs": [],
   "source": [
    "# Set up markets\n",
    "market = concatenate([[i] * num_per_market for i in range(num_markets)])"
   ]
  },
  {
   "cell_type": "code",
   "execution_count": null,
   "metadata": {
    "collapsed": false
   },
   "outputs": [],
   "source": [
    "market"
   ]
  },
  {
   "cell_type": "code",
   "execution_count": null,
   "metadata": {
    "collapsed": false
   },
   "outputs": [],
   "source": [
    "# Simulate the features\n",
    "predictors = np.random.normal(size=(num_observed, num_features))"
   ]
  },
  {
   "cell_type": "code",
   "execution_count": null,
   "metadata": {
    "collapsed": false
   },
   "outputs": [],
   "source": [
    "alpha_a = np.random.normal(size=(num_markets))\n",
    "beta_a = np.random.normal(size=(num_markets, num_features))"
   ]
  },
  {
   "cell_type": "code",
   "execution_count": null,
   "metadata": {
    "collapsed": false
   },
   "outputs": [],
   "source": [
    "# Calculate the actual data\n",
    "p = alpha_a[market] + nsum(beta_a[market] * predictors, 1)\n",
    "\n",
    "#p = nsum(beta_a[market] * predictors, 1)"
   ]
  },
  {
   "cell_type": "code",
   "execution_count": null,
   "metadata": {
    "collapsed": false
   },
   "outputs": [],
   "source": [
    "# Calculate the outcomes\n",
    "outcomes = np.random.binomial(1, numpy_invlogit(p))"
   ]
  },
  {
   "cell_type": "code",
   "execution_count": null,
   "metadata": {
    "collapsed": false
   },
   "outputs": [],
   "source": [
    "model = Model()\n",
    "\n",
    "with model:\n",
    "    # Both alpha and beta are drawn for the same distributions\n",
    "    mu_alpha = Normal(b\"mu_alpha\", 0, 100, shape=(1))\n",
    "    sigma_alpha = Uniform(b\"sigma_alpha\", .0, 10, testval=2.)\n",
    "    \n",
    "    mu_beta = Normal(b\"mu_beta\", 0, 100, shape=(1))\n",
    "    sigma_beta = Uniform(b\"sigma_beta\", 0, 10, testval=2.)\n",
    "    \n",
    "    alpha = Normal(b'alpha', mu=mu_alpha, tau=sigma_alpha, shape=(num_markets))\n",
    "    beta = Normal(b'beta', mu=mu_beta, tau=sigma_beta, shape=(num_markets, num_features))\n",
    "    \n",
    "    m = T.constant(market)\n",
    "#     print(alpha.random().shape)\n",
    "#     print(beta.random().shape)\n",
    "    p = tinvlogit(alpha[m] + sum(beta[m]*predictors, 1))\n",
    "    #p = tinvlogit(alpha[m] + T.dot(predictors, beta[m, :]))\n",
    "    #p = tinvlogit(sum(beta[m] * predictors, 1))\n",
    "    \n",
    "    o = Bernoulli(b'o', p, observed=outcomes)"
   ]
  },
  {
   "cell_type": "code",
   "execution_count": null,
   "metadata": {
    "collapsed": false
   },
   "outputs": [],
   "source": [
    "with model:\n",
    "    v_params = variational.advi(n=10000)"
   ]
  },
  {
   "cell_type": "code",
   "execution_count": null,
   "metadata": {
    "collapsed": false
   },
   "outputs": [],
   "source": [
    "plt.plot(v_params.elbo_vals)"
   ]
  },
  {
   "cell_type": "code",
   "execution_count": null,
   "metadata": {
    "collapsed": false
   },
   "outputs": [],
   "source": [
    "mu"
   ]
  },
  {
   "cell_type": "code",
   "execution_count": null,
   "metadata": {
    "collapsed": false
   },
   "outputs": [],
   "source": [
    "sds"
   ]
  },
  {
   "cell_type": "code",
   "execution_count": null,
   "metadata": {
    "collapsed": false
   },
   "outputs": [],
   "source": [
    "with model:\n",
    "    # move the chain to the MAP which should be a good starting point\n",
    "    #start = find_MAP()\n",
    "    #step = NUTS(scaling=start)\n",
    "    #step = Slice()\n",
    "#     step = NUTS()\n",
    "#     trace = sample(3e4, step)\n",
    "    \n",
    "    step = NUTS(scaling=v_params.stds)\n",
    "    trace = sample(20000, step, start=v_params.means)\n"
   ]
  },
  {
   "cell_type": "code",
   "execution_count": null,
   "metadata": {
    "collapsed": false
   },
   "outputs": [],
   "source": [
    "traceplot(trace)"
   ]
  },
  {
   "cell_type": "code",
   "execution_count": null,
   "metadata": {
    "collapsed": false
   },
   "outputs": [],
   "source": [
    "summary(trace)"
   ]
  },
  {
   "cell_type": "code",
   "execution_count": null,
   "metadata": {
    "collapsed": false
   },
   "outputs": [],
   "source": [
    "beta_a"
   ]
  },
  {
   "cell_type": "code",
   "execution_count": null,
   "metadata": {
    "collapsed": false
   },
   "outputs": [],
   "source": [
    "alpha_a"
   ]
  },
  {
   "cell_type": "code",
   "execution_count": null,
   "metadata": {
    "collapsed": false
   },
   "outputs": [],
   "source": [
    "mu['alpha']"
   ]
  },
  {
   "cell_type": "code",
   "execution_count": null,
   "metadata": {
    "collapsed": false
   },
   "outputs": [],
   "source": [
    "mu['beta']"
   ]
  },
  {
   "cell_type": "code",
   "execution_count": null,
   "metadata": {
    "collapsed": false
   },
   "outputs": [],
   "source": [
    "forestplot(trace, varnames=['mu_alpha', 'mu_beta', 'alpha', 'sigma_alpha', 'sigma_beta'])"
   ]
  },
  {
   "cell_type": "code",
   "execution_count": null,
   "metadata": {
    "collapsed": true
   },
   "outputs": [],
   "source": []
  }
 ],
 "metadata": {
  "kernelspec": {
   "display_name": "Shiftgig",
   "language": "python",
   "name": "shiftgig"
  },
  "language_info": {
   "codemirror_mode": {
    "name": "ipython",
    "version": 2
   },
   "file_extension": ".py",
   "mimetype": "text/x-python",
   "name": "python",
   "nbconvert_exporter": "python",
   "pygments_lexer": "ipython2",
   "version": "2.7.10"
  }
 },
 "nbformat": 4,
 "nbformat_minor": 0
}
